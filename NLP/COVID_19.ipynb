{
 "cells": [
  {
   "cell_type": "code",
   "execution_count": 333,
   "metadata": {},
   "outputs": [],
   "source": [
    "import numpy as np \n",
    "import pandas as pd \n",
    "import json\n",
    "from tqdm.notebook import tqdm"
   ]
  },
  {
   "cell_type": "code",
   "execution_count": 334,
   "metadata": {},
   "outputs": [],
   "source": [
    "NUS_pmc = \"noncomm_use_subset/pmc_json/\"\n",
    "NUS_pdf = \"noncomm_use_subset/pdf_json/\""
   ]
  },
  {
   "cell_type": "code",
   "execution_count": 335,
   "metadata": {},
   "outputs": [
    {
     "data": {
      "application/vnd.jupyter.widget-view+json": {
       "model_id": "4cf0dd2a1d2041d8a95d501765584e6e",
       "version_major": 2,
       "version_minor": 0
      },
      "text/plain": [
       "HBox(children=(IntProgress(value=0, max=2377), HTML(value='')))"
      ]
     },
     "metadata": {},
     "output_type": "display_data"
    },
    {
     "name": "stdout",
     "output_type": "stream",
     "text": [
      "\n"
     ]
    },
    {
     "data": {
      "application/vnd.jupyter.widget-view+json": {
       "model_id": "e0004f5b63724eb49734cf5166a8a070",
       "version_major": 2,
       "version_minor": 0
      },
      "text/plain": [
       "HBox(children=(IntProgress(value=0, max=2094), HTML(value='')))"
      ]
     },
     "metadata": {},
     "output_type": "display_data"
    },
    {
     "ename": "PermissionError",
     "evalue": "[Errno 13] Permission denied: 'noncomm_use_subset/pmc_json/.ipynb_checkpoints'",
     "output_type": "error",
     "traceback": [
      "\u001b[1;31m---------------------------------------------------------------------------\u001b[0m",
      "\u001b[1;31mPermissionError\u001b[0m                           Traceback (most recent call last)",
      "\u001b[1;32m<ipython-input-335-323c80eeb40a>\u001b[0m in \u001b[0;36m<module>\u001b[1;34m\u001b[0m\n\u001b[0;32m     10\u001b[0m \u001b[1;33m\u001b[0m\u001b[0m\n\u001b[0;32m     11\u001b[0m \u001b[0mjsonAppender\u001b[0m\u001b[1;33m(\u001b[0m\u001b[0mNUS_pdf\u001b[0m\u001b[1;33m,\u001b[0m \u001b[0mNUS_pdf_loaded\u001b[0m\u001b[1;33m)\u001b[0m\u001b[1;33m\u001b[0m\u001b[1;33m\u001b[0m\u001b[0m\n\u001b[1;32m---> 12\u001b[1;33m \u001b[0mjsonAppender\u001b[0m\u001b[1;33m(\u001b[0m\u001b[0mNUS_pmc\u001b[0m\u001b[1;33m,\u001b[0m \u001b[0mNUS_pmc_loaded\u001b[0m\u001b[1;33m)\u001b[0m\u001b[1;33m\u001b[0m\u001b[1;33m\u001b[0m\u001b[0m\n\u001b[0m",
      "\u001b[1;32m<ipython-input-335-323c80eeb40a>\u001b[0m in \u001b[0;36mjsonAppender\u001b[1;34m(dir_, loaded_file)\u001b[0m\n\u001b[0;32m      6\u001b[0m     \u001b[1;32mfor\u001b[0m \u001b[0mfilename\u001b[0m \u001b[1;32min\u001b[0m \u001b[0mtqdm\u001b[0m\u001b[1;33m(\u001b[0m\u001b[0mfiles\u001b[0m\u001b[1;33m)\u001b[0m\u001b[1;33m:\u001b[0m\u001b[1;33m\u001b[0m\u001b[1;33m\u001b[0m\u001b[0m\n\u001b[0;32m      7\u001b[0m         \u001b[0mfile\u001b[0m \u001b[1;33m=\u001b[0m \u001b[0mdir_\u001b[0m \u001b[1;33m+\u001b[0m \u001b[0mfilename\u001b[0m\u001b[1;33m\u001b[0m\u001b[1;33m\u001b[0m\u001b[0m\n\u001b[1;32m----> 8\u001b[1;33m         \u001b[0mopened_file\u001b[0m \u001b[1;33m=\u001b[0m \u001b[0mjson\u001b[0m\u001b[1;33m.\u001b[0m\u001b[0mload\u001b[0m\u001b[1;33m(\u001b[0m\u001b[0mopen\u001b[0m\u001b[1;33m(\u001b[0m\u001b[0mfile\u001b[0m\u001b[1;33m,\u001b[0m \u001b[1;34m'rb'\u001b[0m\u001b[1;33m)\u001b[0m\u001b[1;33m)\u001b[0m\u001b[1;33m\u001b[0m\u001b[1;33m\u001b[0m\u001b[0m\n\u001b[0m\u001b[0;32m      9\u001b[0m         \u001b[0mloaded_file\u001b[0m\u001b[1;33m.\u001b[0m\u001b[0mappend\u001b[0m\u001b[1;33m(\u001b[0m\u001b[0mopened_file\u001b[0m\u001b[1;33m)\u001b[0m\u001b[1;33m\u001b[0m\u001b[1;33m\u001b[0m\u001b[0m\n\u001b[0;32m     10\u001b[0m \u001b[1;33m\u001b[0m\u001b[0m\n",
      "\u001b[1;31mPermissionError\u001b[0m: [Errno 13] Permission denied: 'noncomm_use_subset/pmc_json/.ipynb_checkpoints'"
     ]
    }
   ],
   "source": [
    "NUS_pdf_loaded = []\n",
    "NUS_pmc_loaded = []\n",
    "\n",
    "def jsonAppender(dir_, loaded_file):\n",
    "    files = os.listdir(dir_)\n",
    "    for filename in tqdm(files):\n",
    "        file = dir_ + filename\n",
    "        opened_file = json.load(open(file, 'rb'))\n",
    "        loaded_file.append(opened_file)\n",
    "\n",
    "jsonAppender(NUS_pdf, NUS_pdf_loaded)\n",
    "jsonAppender(NUS_pmc, NUS_pmc_loaded)"
   ]
  },
  {
   "cell_type": "code",
   "execution_count": 366,
   "metadata": {},
   "outputs": [],
   "source": [
    "def authorFormator(file):\n",
    "    \n",
    "    Authors = \"\"\n",
    "    AuthorsO = []\n",
    "    \n",
    "    for i in file[\"metadata\"][\"authors\"]:\n",
    "\n",
    "        firstName = str(i[\"first\"])\n",
    "        middleName = str(i[\"middle\"])\n",
    "        lastName = str(i[\"last\"])\n",
    "        suffix = str(i[\"last\"])\n",
    "\n",
    "        if (middleName != \"[]\"):\n",
    "            middleName = middleName.replace(\"['\",\"\").replace(\"']\",\"\")\n",
    "            Author = firstName + \" \" + middleName + \" \" + lastName\n",
    "        else:\n",
    "            Author = firstName + \" \" + lastName\n",
    "        \n",
    "        AuthorsO.append(Author)\n",
    "        \n",
    "    Authors = ', '.join(AuthorsO)\n",
    "        \n",
    "    return Authors\n",
    "\n",
    "def bodyText(file):\n",
    "    \n",
    "    Body_text = \"\"\n",
    "    for i in file[\"body_text\"]:\n",
    "        Body_text += (i[\"text\"] + \"\\n\\n\")\n",
    "        \n",
    "    return Body_text\n",
    "\n",
    "def bodySection(file):\n",
    "    \n",
    "    Body_Section = \"\"\n",
    "    section = \"\"\n",
    "    for i in file[\"body_text\"]:\n",
    "        if Body_Section != i[\"section\"]:\n",
    "            Body_Section += \" \" + (i[\"section\"] )\n",
    "            section += Body_Section + \",\"\n",
    "    return section\n",
    "\n",
    "def affiliation(file):\n",
    "    institutions = \"\"\n",
    "    institution0 = []\n",
    "    \n",
    "    for i in file[\"metadata\"][\"authors\"]:\n",
    "        if 'institution' in i[\"affiliation\"]:\n",
    "            institution = (i[\"affiliation\"][\"institution\"])\n",
    "            institution0.append(institution)\n",
    "    institutions = ', '.join(institution0)\n",
    "#     print(institutions)\n",
    "    return institutions"
   ]
  },
  {
   "cell_type": "code",
   "execution_count": null,
   "metadata": {},
   "outputs": [],
   "source": []
  },
  {
   "cell_type": "code",
   "execution_count": 367,
   "metadata": {},
   "outputs": [],
   "source": [
    "def dataAppender(fileName, clean_file_name):\n",
    "    for file in tqdm(fileName):\n",
    "        features = [\n",
    "            file[\"paper_id\"],\n",
    "            file[\"metadata\"][\"title\"],\n",
    "            authorFormator(file),\n",
    "            bodyText(file),\n",
    "            bodySection(file)\n",
    "#             affiliation(file)\n",
    "        ]\n",
    "        clean_file_name.append(features)"
   ]
  },
  {
   "cell_type": "code",
   "execution_count": 368,
   "metadata": {},
   "outputs": [
    {
     "data": {
      "application/vnd.jupyter.widget-view+json": {
       "model_id": "4d240d74d3ec418bb09e7fe67234e543",
       "version_major": 2,
       "version_minor": 0
      },
      "text/plain": [
       "HBox(children=(IntProgress(value=0, max=2377), HTML(value='')))"
      ]
     },
     "metadata": {},
     "output_type": "display_data"
    },
    {
     "name": "stdout",
     "output_type": "stream",
     "text": [
      "\n"
     ]
    }
   ],
   "source": [
    "NUS_pdf_cleaned = []\n",
    "dataAppender(NUS_pdf_loaded, NUS_pdf_cleaned)"
   ]
  },
  {
   "cell_type": "code",
   "execution_count": 369,
   "metadata": {},
   "outputs": [],
   "source": [
    "# NUS_pdf_cleaned[0]"
   ]
  },
  {
   "cell_type": "code",
   "execution_count": 370,
   "metadata": {},
   "outputs": [
    {
     "data": {
      "application/vnd.jupyter.widget-view+json": {
       "model_id": "114680a1a2574f39b4e8fa37394ea888",
       "version_major": 2,
       "version_minor": 0
      },
      "text/plain": [
       "HBox(children=(IntProgress(value=1, bar_style='info', max=1), HTML(value='')))"
      ]
     },
     "metadata": {},
     "output_type": "display_data"
    },
    {
     "name": "stdout",
     "output_type": "stream",
     "text": [
      "\n"
     ]
    }
   ],
   "source": [
    "NUS_pmc_cleaned = []\n",
    "dataAppender(NUS_pmc_loaded, NUS_pmc_cleaned)"
   ]
  },
  {
   "cell_type": "code",
   "execution_count": 376,
   "metadata": {},
   "outputs": [
    {
     "data": {
      "text/plain": [
       "0     Disclosures, Disclosures ESVC-O-2, Disclosure...\n",
       "1     Introduction, Introduction Introduction, Intr...\n",
       "2     Introduction, Introduction Introduction, Intr...\n",
       "3     Animals and Cell Cultures, Animals and Cell C...\n",
       "4     Editorial, Editorial ⓒ 2015 The Korean Societ...\n",
       "Name: Body_Section, dtype: object"
      ]
     },
     "execution_count": 376,
     "metadata": {},
     "output_type": "execute_result"
    }
   ],
   "source": [
    "cols = [\n",
    "    'Paper_id', \n",
    "    'Title', \n",
    "    'Authors',\n",
    "    'Body_text',\n",
    "    'Body_Section'\n",
    "#     'institutions'\n",
    "]\n",
    "NUS_pmc_df = pd.DataFrame(NUS_pmc_cleaned, columns=cols)\n",
    "NUS_pdf_df = pd.DataFrame(NUS_pdf_cleaned, columns=cols)\n",
    "\n",
    "dfs = [NUS_pmc_df, NUS_pdf_df]\n",
    "\n",
    "clean_df = pd.concat(dfs)\n",
    "clean_df[\"Body_Section\"].head()"
   ]
  },
  {
   "cell_type": "code",
   "execution_count": 372,
   "metadata": {},
   "outputs": [],
   "source": [
    "clean_df.to_csv('cleanCORD.csv', index=False)"
   ]
  },
  {
   "cell_type": "code",
   "execution_count": null,
   "metadata": {},
   "outputs": [],
   "source": []
  }
 ],
 "metadata": {
  "kernelspec": {
   "display_name": "Python 3",
   "language": "python",
   "name": "python3"
  },
  "language_info": {
   "codemirror_mode": {
    "name": "ipython",
    "version": 3
   },
   "file_extension": ".py",
   "mimetype": "text/x-python",
   "name": "python",
   "nbconvert_exporter": "python",
   "pygments_lexer": "ipython3",
   "version": "3.7.4"
  }
 },
 "nbformat": 4,
 "nbformat_minor": 4
}
