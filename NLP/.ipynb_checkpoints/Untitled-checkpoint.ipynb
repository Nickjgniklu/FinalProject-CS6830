{
 "cells": [
  {
   "cell_type": "code",
   "execution_count": null,
   "metadata": {},
   "outputs": [],
   "source": [
    "import numpy as np \n",
    "import pandas as pd \n",
    "import json\n",
    "from tqdm.notebook import tqdm"
   ]
  },
  {
   "cell_type": "code",
   "execution_count": null,
   "metadata": {},
   "outputs": [],
   "source": [
    "NUS_pmc = \"noncomm_use_subset/pmc_json/\"\n",
    "NUS_pdf = \"noncomm_use_subset/pdf_json/\""
   ]
  },
  {
   "cell_type": "code",
   "execution_count": null,
   "metadata": {},
   "outputs": [],
   "source": [
    "NUS_pdf_loaded = []\n",
    "NUS_pmc_loaded = []\n",
    "\n",
    "def jsonAppender(dir_, loaded_file):\n",
    "    files = os.listdir(dir_)\n",
    "    for filename in tqdm(files):\n",
    "        file = dir_ + filename\n",
    "        opened_file = json.load(open(file, 'rb'))\n",
    "        loaded_file.append(opened_file)\n",
    "\n",
    "jsonAppender(NUS_pdf, NUS_pdf_loaded)\n",
    "jsonAppender(NUS_pmc, NUS_pmc_loaded)"
   ]
  },
  {
   "cell_type": "code",
   "execution_count": null,
   "metadata": {},
   "outputs": [],
   "source": [
    "def authorFormator(file):\n",
    "    \n",
    "    Authors = \"\"\n",
    "    AuthorsO = []\n",
    "    \n",
    "    for i in file[\"metadata\"][\"authors\"]:\n",
    "\n",
    "        firstName = str(i[\"first\"])\n",
    "        middleName = str(i[\"middle\"])\n",
    "        lastName = str(i[\"last\"])\n",
    "        suffix = str(i[\"last\"])\n",
    "\n",
    "        if (middleName != \"[]\"):\n",
    "            middleName = middleName.replace(\"['\",\"\").replace(\"']\",\"\")\n",
    "            Author = firstName + \" \" + middleName + \" \" + lastName\n",
    "        else:\n",
    "            Author = firstName + \" \" + lastName\n",
    "        \n",
    "        AuthorsO.append(Author)\n",
    "        \n",
    "    Authors = ', '.join(AuthorsO)\n",
    "        \n",
    "    return Authors\n",
    "\n",
    "def bodyText(file):\n",
    "    \n",
    "    Body_text = \"\"\n",
    "    for i in file[\"body_text\"]:\n",
    "        Body_text += (i[\"text\"] + \"\\n\\n\")\n",
    "        \n",
    "    return Body_text\n",
    "\n",
    "def bodySection(file):\n",
    "    \n",
    "    Body_Section = \"\"\n",
    "    section = \"\"\n",
    "    for i in file[\"body_text\"]:\n",
    "        if Body_Section != i[\"section\"]:\n",
    "            Body_Section += \" \" + (i[\"section\"] )\n",
    "            section += Body_Section + \",\"\n",
    "    return section\n",
    "\n",
    "def affiliation(file):\n",
    "    institutions = \"\"\n",
    "    institution0 = []\n",
    "    \n",
    "    for i in file[\"metadata\"][\"authors\"]:\n",
    "        if 'institution' in i[\"affiliation\"]:\n",
    "            institution = (i[\"affiliation\"][\"institution\"])\n",
    "            institution0.append(institution)\n",
    "    institutions = ', '.join(institution0)\n",
    "#     print(institutions)\n",
    "    return institutions"
   ]
  },
  {
   "cell_type": "code",
   "execution_count": null,
   "metadata": {},
   "outputs": [],
   "source": []
  },
  {
   "cell_type": "code",
   "execution_count": null,
   "metadata": {},
   "outputs": [],
   "source": [
    "def dataAppender(fileName, clean_file_name):\n",
    "    for file in tqdm(fileName):\n",
    "        features = [\n",
    "            file[\"paper_id\"],\n",
    "            file[\"metadata\"][\"title\"],\n",
    "            authorFormator(file),\n",
    "            bodyText(file),\n",
    "            bodySection(file)\n",
    "#             affiliation(file)\n",
    "        ]\n",
    "        clean_file_name.append(features)"
   ]
  },
  {
   "cell_type": "code",
   "execution_count": null,
   "metadata": {},
   "outputs": [],
   "source": [
    "NUS_pdf_cleaned = []\n",
    "dataAppender(NUS_pdf_loaded, NUS_pdf_cleaned)"
   ]
  },
  {
   "cell_type": "code",
   "execution_count": null,
   "metadata": {},
   "outputs": [],
   "source": [
    "# NUS_pdf_cleaned[0]"
   ]
  },
  {
   "cell_type": "code",
   "execution_count": null,
   "metadata": {},
   "outputs": [],
   "source": [
    "NUS_pmc_cleaned = []\n",
    "dataAppender(NUS_pmc_loaded, NUS_pmc_cleaned)"
   ]
  },
  {
   "cell_type": "code",
   "execution_count": null,
   "metadata": {},
   "outputs": [],
   "source": [
    "cols = [\n",
    "    'Paper_id', \n",
    "    'Title', \n",
    "    'Authors',\n",
    "    'Body_text',\n",
    "    'Body_Section'\n",
    "#     'institutions'\n",
    "]\n",
    "NUS_pmc_df = pd.DataFrame(NUS_pmc_cleaned, columns=cols)\n",
    "NUS_pdf_df = pd.DataFrame(NUS_pdf_cleaned, columns=cols)\n",
    "\n",
    "dfs = [NUS_pmc_df, NUS_pdf_df]\n",
    "\n",
    "clean_df = pd.concat(dfs)\n",
    "clean_df[\"Body_Section\"].head()"
   ]
  },
  {
   "cell_type": "code",
   "execution_count": 372,
   "metadata": {},
   "outputs": [],
   "source": [
    "clean_df.to_csv('cleaned_data.csv', index=False)"
   ]
  },
  {
   "cell_type": "code",
   "execution_count": null,
   "metadata": {},
   "outputs": [],
   "source": []
  }
 ],
 "metadata": {
  "kernelspec": {
   "display_name": "Python 3",
   "language": "python",
   "name": "python3"
  },
  "language_info": {
   "codemirror_mode": {
    "name": "ipython",
    "version": 3
   },
   "file_extension": ".py",
   "mimetype": "text/x-python",
   "name": "python",
   "nbconvert_exporter": "python",
   "pygments_lexer": "ipython3",
   "version": "3.7.4"
  }
 },
 "nbformat": 4,
 "nbformat_minor": 4
}
